{
  "nbformat": 4,
  "nbformat_minor": 0,
  "metadata": {
    "colab": {
      "name": "Github_RFM_online_retail.ipynb",
      "provenance": [],
      "collapsed_sections": []
    },
    "kernelspec": {
      "name": "python3",
      "display_name": "Python 3"
    }
  },
  "cells": [
    {
      "cell_type": "markdown",
      "metadata": {
        "id": "3hQSZVfoR8kB"
      },
      "source": [
        "Remenber to set the spark version correctly. Here I used spark-2.4.7\n",
        "Find a version available on this site: https://downloads.apache.org/spark/"
      ]
    },
    {
      "cell_type": "markdown",
      "metadata": {
        "id": "PyUzp5xWpY39"
      },
      "source": [
        "###Set up spark environment"
      ]
    },
    {
      "cell_type": "code",
      "metadata": {
        "id": "tftp40EipUNO"
      },
      "source": [
        "!apt-get install openjdk-8-jdk-headless -qq > /dev/null\n",
        "!wget -q https://www-us.apache.org/dist/spark/spark-2.4.7/spark-2.4.7-bin-hadoop2.7.tgz\n",
        "!tar xf spark-2.4.7-bin-hadoop2.7.tgz\n",
        "!pip install -q findspark\n",
        "\n",
        "import os\n",
        "os.environ[\"JAVA_HOME\"] = \"/usr/lib/jvm/java-8-openjdk-amd64\"\n",
        "os.environ[\"SPARK_HOME\"] = \"/content/spark-2.4.7-bin-hadoop2.7\"\n",
        "\n",
        "import findspark\n",
        "findspark.init()\n",
        "from pyspark.sql import SparkSession\n",
        "# spark = SparkSession.builder.master(\"local[*]\").getOrCreate()"
      ],
      "execution_count": 3,
      "outputs": []
    },
    {
      "cell_type": "code",
      "metadata": {
        "id": "GPfwc4-OKy8c"
      },
      "source": [
        "from pyspark.sql import SparkSession\n",
        "\n",
        "from pyspark.sql import functions as F\n",
        "from pyspark.sql.types import DoubleType, TimestampType, IntegerType\n",
        "from pyspark.sql.functions import to_date\n",
        "\n",
        "from pyspark.ml.feature import MinMaxScaler\n",
        "from pyspark.ml.feature import VectorAssembler"
      ],
      "execution_count": 4,
      "outputs": []
    },
    {
      "cell_type": "code",
      "metadata": {
        "id": "PslgtYZBsOih"
      },
      "source": [
        "import pandas as pd\n",
        "import matplotlib.pyplot as plt\n",
        "import seaborn as sns\n",
        "import numpy as np"
      ],
      "execution_count": 5,
      "outputs": []
    },
    {
      "cell_type": "markdown",
      "metadata": {
        "id": "NNWz7DdPphGo"
      },
      "source": [
        "###Import and Explore Dataset"
      ]
    },
    {
      "cell_type": "code",
      "metadata": {
        "colab": {
          "base_uri": "https://localhost:8080/"
        },
        "id": "eDQ34A90Tlft",
        "outputId": "25603b7f-d039-473c-a56f-a2c6c33f1397"
      },
      "source": [
        "spark = SparkSession \\\n",
        "    .builder \\\n",
        "    .appName('Ruoyuan\\'s Python Spark Notebook') \\\n",
        "    .getOrCreate()\n",
        "print(spark.version)  \n",
        "sc = spark.sparkContext"
      ],
      "execution_count": 7,
      "outputs": [
        {
          "output_type": "stream",
          "text": [
            "2.4.7\n"
          ],
          "name": "stdout"
        }
      ]
    },
    {
      "cell_type": "code",
      "metadata": {
        "id": "hPU8cwbuplup",
        "colab": {
          "base_uri": "https://localhost:8080/"
        },
        "outputId": "8eaf1df3-51d0-44b5-ad64-3d930087d7d8"
      },
      "source": [
        "!wget https://raw.githubusercontent.com/ruoyuanDu/Online_sales-RFM/main/online_retail_II.csv"
      ],
      "execution_count": 8,
      "outputs": [
        {
          "output_type": "stream",
          "text": [
            "--2021-01-06 17:34:52--  https://raw.githubusercontent.com/ruoyuanDu/Online_sales-RFM/main/online_retail_II.csv\n",
            "Resolving raw.githubusercontent.com (raw.githubusercontent.com)... 151.101.0.133, 151.101.64.133, 151.101.128.133, ...\n",
            "Connecting to raw.githubusercontent.com (raw.githubusercontent.com)|151.101.0.133|:443... connected.\n",
            "HTTP request sent, awaiting response... 200 OK\n",
            "Length: 88896544 (85M) [text/plain]\n",
            "Saving to: ‘online_retail_II.csv’\n",
            "\n",
            "online_retail_II.cs 100%[===================>]  84.78M   167MB/s    in 0.5s    \n",
            "\n",
            "2021-01-06 17:34:56 (167 MB/s) - ‘online_retail_II.csv’ saved [88896544/88896544]\n",
            "\n"
          ],
          "name": "stdout"
        }
      ]
    },
    {
      "cell_type": "code",
      "metadata": {
        "colab": {
          "base_uri": "https://localhost:8080/"
        },
        "id": "jT-1N-O0A2WD",
        "outputId": "0b13c4b2-5387-4e7b-d383-63c863f5440b"
      },
      "source": [
        "raw_data = spark.read.csv('online_retail_II.csv', header = True)\n",
        "raw_data.show()"
      ],
      "execution_count": 64,
      "outputs": [
        {
          "output_type": "stream",
          "text": [
            "+-------+---------+--------------------+--------+--------------+-----+-----------+--------------+\n",
            "|Invoice|StockCode|         Description|Quantity|   InvoiceDate|Price|Customer ID|       Country|\n",
            "+-------+---------+--------------------+--------+--------------+-----+-----------+--------------+\n",
            "| 489434|    85048|15CM CHRISTMAS GL...|      12|12/1/2009 7:45| 6.95|      13085|United Kingdom|\n",
            "| 489434|   79323P|  PINK CHERRY LIGHTS|      12|12/1/2009 7:45| 6.75|      13085|United Kingdom|\n",
            "| 489434|   79323W| WHITE CHERRY LIGHTS|      12|12/1/2009 7:45| 6.75|      13085|United Kingdom|\n",
            "| 489434|    22041|\"RECORD FRAME 7\"\"...|      48|12/1/2009 7:45|  2.1|      13085|United Kingdom|\n",
            "| 489434|    21232|STRAWBERRY CERAMI...|      24|12/1/2009 7:45| 1.25|      13085|United Kingdom|\n",
            "| 489434|    22064|PINK DOUGHNUT TRI...|      24|12/1/2009 7:45| 1.65|      13085|United Kingdom|\n",
            "| 489434|    21871| SAVE THE PLANET MUG|      24|12/1/2009 7:45| 1.25|      13085|United Kingdom|\n",
            "| 489434|    21523|FANCY FONT HOME S...|      10|12/1/2009 7:45| 5.95|      13085|United Kingdom|\n",
            "| 489435|    22350|           CAT BOWL |      12|12/1/2009 7:46| 2.55|      13085|United Kingdom|\n",
            "| 489435|    22349|DOG BOWL , CHASIN...|      12|12/1/2009 7:46| 3.75|      13085|United Kingdom|\n",
            "| 489435|    22195|HEART MEASURING S...|      24|12/1/2009 7:46| 1.65|      13085|United Kingdom|\n",
            "| 489435|    22353|LUNCHBOX WITH CUT...|      12|12/1/2009 7:46| 2.55|      13085|United Kingdom|\n",
            "| 489436|   48173C|DOOR MAT BLACK FL...|      10|12/1/2009 9:06| 5.95|      13078|United Kingdom|\n",
            "| 489436|    21755|LOVE BUILDING BLO...|      18|12/1/2009 9:06| 5.45|      13078|United Kingdom|\n",
            "| 489436|    21754|HOME BUILDING BLO...|       3|12/1/2009 9:06| 5.95|      13078|United Kingdom|\n",
            "| 489436|    84879|ASSORTED COLOUR B...|      16|12/1/2009 9:06| 1.69|      13078|United Kingdom|\n",
            "| 489436|    22119| PEACE WOODEN BLO...|       3|12/1/2009 9:06| 6.95|      13078|United Kingdom|\n",
            "| 489436|    22142|CHRISTMAS CRAFT W...|      12|12/1/2009 9:06| 1.45|      13078|United Kingdom|\n",
            "| 489436|    22296|HEART IVORY TRELL...|      12|12/1/2009 9:06| 1.65|      13078|United Kingdom|\n",
            "| 489436|    22295|HEART FILIGREE DO...|      12|12/1/2009 9:06| 1.65|      13078|United Kingdom|\n",
            "+-------+---------+--------------------+--------+--------------+-----+-----------+--------------+\n",
            "only showing top 20 rows\n",
            "\n"
          ],
          "name": "stdout"
        }
      ]
    },
    {
      "cell_type": "code",
      "metadata": {
        "id": "hnYN_gnksSdF"
      },
      "source": [
        "# import dataset as panas dataframe for ease to make plots\n",
        "raw_data_df = pd.read_csv('online_retail_II.csv')"
      ],
      "execution_count": 65,
      "outputs": []
    },
    {
      "cell_type": "code",
      "metadata": {
        "colab": {
          "base_uri": "https://localhost:8080/"
        },
        "id": "NkP-wHsh2Aed",
        "outputId": "c02b93e8-24e2-430b-d7a4-ccd997cb1e16"
      },
      "source": [
        "raw_data.count()"
      ],
      "execution_count": 11,
      "outputs": [
        {
          "output_type": "execute_result",
          "data": {
            "text/plain": [
              "1067371"
            ]
          },
          "metadata": {
            "tags": []
          },
          "execution_count": 11
        }
      ]
    },
    {
      "cell_type": "code",
      "metadata": {
        "colab": {
          "base_uri": "https://localhost:8080/"
        },
        "id": "mr3fae522DRq",
        "outputId": "36910b07-15c2-4e71-a2bb-d6d554114f19"
      },
      "source": [
        "raw_data.printSchema()"
      ],
      "execution_count": 12,
      "outputs": [
        {
          "output_type": "stream",
          "text": [
            "root\n",
            " |-- Invoice: string (nullable = true)\n",
            " |-- StockCode: string (nullable = true)\n",
            " |-- Description: string (nullable = true)\n",
            " |-- Quantity: string (nullable = true)\n",
            " |-- InvoiceDate: string (nullable = true)\n",
            " |-- Price: string (nullable = true)\n",
            " |-- Customer ID: string (nullable = true)\n",
            " |-- Country: string (nullable = true)\n",
            "\n"
          ],
          "name": "stdout"
        }
      ]
    },
    {
      "cell_type": "markdown",
      "metadata": {
        "id": "__y6OGOZLHDj"
      },
      "source": [
        "### Check if any outliers and unusual values are in the dataset"
      ]
    },
    {
      "cell_type": "code",
      "metadata": {
        "colab": {
          "base_uri": "https://localhost:8080/",
          "height": 333
        },
        "id": "dnsbFODDEu47",
        "outputId": "4e590e06-7ded-488e-e137-343891ac3b51"
      },
      "source": [
        "figure, axes = plt.subplots(1,2,sharex=False, sharey=False, figsize=(8, 5),squeeze=True)\n",
        "axes[0].plot(raw_data_df['Price'], '.', label = 'Price')\n",
        "axes[1].plot(raw_data_df['Quantity'], '.', label='Quantity')\n",
        "plt.legend()\n",
        "plt.show()"
      ],
      "execution_count": 14,
      "outputs": [
        {
          "output_type": "display_data",
          "data": {
            "image/png": "[encoded data removed]",
            "text/plain": [
              "<Figure size 576x360 with 2 Axes>"
            ]
          },
          "metadata": {
            "tags": [],
            "needs_background": "light"
          }
        }
      ]
    },
    {
      "cell_type": "markdown",
      "metadata": {
        "id": "SeD6zMhrLZfj"
      },
      "source": [
        "Price and quantity values cannot be negative, so we need to remove negative points"
      ]
    },
    {
      "cell_type": "markdown",
      "metadata": {
        "id": "roFr1W7ZpqKv"
      },
      "source": [
        "### Data Clean up"
      ]
    },
    {
      "cell_type": "markdown",
      "metadata": {
        "id": "cedq3FWi42Yq"
      },
      "source": [
        "pyspark dataframe: change column data types"
      ]
    },
    {
      "cell_type": "code",
      "metadata": {
        "id": "0eoMxlSRpsUy"
      },
      "source": [
        "raw_data = raw_data.withColumn('Quantity', raw_data.Quantity.cast(IntegerType()))\\\n",
        "                   .withColumn('Price', raw_data.Price.cast(DoubleType()))\\\n",
        "                   .withColumn('InvoiceDate', to_date('InvoiceDate', 'MM/dd/yyyy H:m'))"
      ],
      "execution_count": 15,
      "outputs": []
    },
    {
      "cell_type": "code",
      "metadata": {
        "colab": {
          "base_uri": "https://localhost:8080/"
        },
        "id": "1rGwd_VL6IH-",
        "outputId": "2d332236-3dd7-4217-d4df-5da35ae5a9dc"
      },
      "source": [
        "raw_data.printSchema()"
      ],
      "execution_count": 16,
      "outputs": [
        {
          "output_type": "stream",
          "text": [
            "root\n",
            " |-- Invoice: string (nullable = true)\n",
            " |-- StockCode: string (nullable = true)\n",
            " |-- Description: string (nullable = true)\n",
            " |-- Quantity: integer (nullable = true)\n",
            " |-- InvoiceDate: date (nullable = true)\n",
            " |-- Price: double (nullable = true)\n",
            " |-- Customer ID: string (nullable = true)\n",
            " |-- Country: string (nullable = true)\n",
            "\n"
          ],
          "name": "stdout"
        }
      ]
    },
    {
      "cell_type": "code",
      "metadata": {
        "colab": {
          "base_uri": "https://localhost:8080/"
        },
        "id": "bYMGusAt92Yj",
        "outputId": "b5f65cd7-383d-4243-bba0-93090b3c003e"
      },
      "source": [
        "raw_data.show()"
      ],
      "execution_count": 17,
      "outputs": [
        {
          "output_type": "stream",
          "text": [
            "+-------+---------+--------------------+--------+-----------+-----+-----------+--------------+\n",
            "|Invoice|StockCode|         Description|Quantity|InvoiceDate|Price|Customer ID|       Country|\n",
            "+-------+---------+--------------------+--------+-----------+-----+-----------+--------------+\n",
            "| 489434|    85048|15CM CHRISTMAS GL...|      12| 2009-12-01| 6.95|      13085|United Kingdom|\n",
            "| 489434|   79323P|  PINK CHERRY LIGHTS|      12| 2009-12-01| 6.75|      13085|United Kingdom|\n",
            "| 489434|   79323W| WHITE CHERRY LIGHTS|      12| 2009-12-01| 6.75|      13085|United Kingdom|\n",
            "| 489434|    22041|\"RECORD FRAME 7\"\"...|      48| 2009-12-01|  2.1|      13085|United Kingdom|\n",
            "| 489434|    21232|STRAWBERRY CERAMI...|      24| 2009-12-01| 1.25|      13085|United Kingdom|\n",
            "| 489434|    22064|PINK DOUGHNUT TRI...|      24| 2009-12-01| 1.65|      13085|United Kingdom|\n",
            "| 489434|    21871| SAVE THE PLANET MUG|      24| 2009-12-01| 1.25|      13085|United Kingdom|\n",
            "| 489434|    21523|FANCY FONT HOME S...|      10| 2009-12-01| 5.95|      13085|United Kingdom|\n",
            "| 489435|    22350|           CAT BOWL |      12| 2009-12-01| 2.55|      13085|United Kingdom|\n",
            "| 489435|    22349|DOG BOWL , CHASIN...|      12| 2009-12-01| 3.75|      13085|United Kingdom|\n",
            "| 489435|    22195|HEART MEASURING S...|      24| 2009-12-01| 1.65|      13085|United Kingdom|\n",
            "| 489435|    22353|LUNCHBOX WITH CUT...|      12| 2009-12-01| 2.55|      13085|United Kingdom|\n",
            "| 489436|   48173C|DOOR MAT BLACK FL...|      10| 2009-12-01| 5.95|      13078|United Kingdom|\n",
            "| 489436|    21755|LOVE BUILDING BLO...|      18| 2009-12-01| 5.45|      13078|United Kingdom|\n",
            "| 489436|    21754|HOME BUILDING BLO...|       3| 2009-12-01| 5.95|      13078|United Kingdom|\n",
            "| 489436|    84879|ASSORTED COLOUR B...|      16| 2009-12-01| 1.69|      13078|United Kingdom|\n",
            "| 489436|    22119| PEACE WOODEN BLO...|       3| 2009-12-01| 6.95|      13078|United Kingdom|\n",
            "| 489436|    22142|CHRISTMAS CRAFT W...|      12| 2009-12-01| 1.45|      13078|United Kingdom|\n",
            "| 489436|    22296|HEART IVORY TRELL...|      12| 2009-12-01| 1.65|      13078|United Kingdom|\n",
            "| 489436|    22295|HEART FILIGREE DO...|      12| 2009-12-01| 1.65|      13078|United Kingdom|\n",
            "+-------+---------+--------------------+--------+-----------+-----+-----------+--------------+\n",
            "only showing top 20 rows\n",
            "\n"
          ],
          "name": "stdout"
        }
      ]
    },
    {
      "cell_type": "markdown",
      "metadata": {
        "id": "XWrGfYySBrvI"
      },
      "source": [
        "**Drop rows with null values** "
      ]
    },
    {
      "cell_type": "code",
      "metadata": {
        "id": "2Qt6tsKaBxAk"
      },
      "source": [
        "clean_raw_data = raw_data.filter(raw_data['Invoice'].isNotNull())\\\n",
        "                         .filter(raw_data['InvoiceDate'].isNotNull())\\\n",
        "                         .filter(raw_data['Price'].isNotNull())\\\n",
        "                         .filter(raw_data['Quantity'].isNotNull())\\\n",
        "                         .filter(raw_data['Customer ID'].isNotNull())"
      ],
      "execution_count": 18,
      "outputs": []
    },
    {
      "cell_type": "code",
      "metadata": {
        "colab": {
          "base_uri": "https://localhost:8080/"
        },
        "id": "zCcuTDh4llSF",
        "outputId": "04cfb34e-f808-4221-f9ee-08ea020f7570"
      },
      "source": [
        "clean_raw_data.count()"
      ],
      "execution_count": 19,
      "outputs": [
        {
          "output_type": "execute_result",
          "data": {
            "text/plain": [
              "824364"
            ]
          },
          "metadata": {
            "tags": []
          },
          "execution_count": 19
        }
      ]
    },
    {
      "cell_type": "markdown",
      "metadata": {
        "id": "E4935SkCLpg_"
      },
      "source": [
        "**Drop negative price and quantity values**  "
      ]
    },
    {
      "cell_type": "code",
      "metadata": {
        "colab": {
          "base_uri": "https://localhost:8080/"
        },
        "id": "qDuhBMauLpSA",
        "outputId": "cf46f2bf-3657-474e-e5be-ffc4beb869b7"
      },
      "source": [
        "clean_raw_data.filter(F.col('Quantity')<0).count()"
      ],
      "execution_count": 20,
      "outputs": [
        {
          "output_type": "execute_result",
          "data": {
            "text/plain": [
              "18744"
            ]
          },
          "metadata": {
            "tags": []
          },
          "execution_count": 20
        }
      ]
    },
    {
      "cell_type": "code",
      "metadata": {
        "colab": {
          "base_uri": "https://localhost:8080/"
        },
        "id": "fJe76S0HLokB",
        "outputId": "82d31ea6-00cb-4edb-880a-65923872a6ef"
      },
      "source": [
        "clean_raw_data.filter(F.col('Price')<0).count()"
      ],
      "execution_count": 21,
      "outputs": [
        {
          "output_type": "execute_result",
          "data": {
            "text/plain": [
              "0"
            ]
          },
          "metadata": {
            "tags": []
          },
          "execution_count": 21
        }
      ]
    },
    {
      "cell_type": "code",
      "metadata": {
        "id": "ndrIV_63NSf2"
      },
      "source": [
        "clean_raw_data = clean_raw_data.filter(F.col('Quantity')>=0)"
      ],
      "execution_count": 22,
      "outputs": []
    },
    {
      "cell_type": "code",
      "metadata": {
        "colab": {
          "base_uri": "https://localhost:8080/"
        },
        "id": "Bh7NQl6uNcLB",
        "outputId": "c8b65dcb-2658-42d4-9a6f-6f457af4cbf8"
      },
      "source": [
        "clean_raw_data.count()"
      ],
      "execution_count": 23,
      "outputs": [
        {
          "output_type": "execute_result",
          "data": {
            "text/plain": [
              "805620"
            ]
          },
          "metadata": {
            "tags": []
          },
          "execution_count": 23
        }
      ]
    },
    {
      "cell_type": "markdown",
      "metadata": {
        "id": "BXZzzJ2cI0td"
      },
      "source": [
        "**Group by customer ID and calculate the sum of total values spent by each customer, find their most recent purchase, and total number of purchases have been made**  "
      ]
    },
    {
      "cell_type": "code",
      "metadata": {
        "id": "gDtPbU1rI78D"
      },
      "source": [
        "clean_raw_data_agg = clean_raw_data.groupBy('Customer ID').agg(F.round(F.sum(F.col('Quantity')*F.col('Price')),3).alias('Total expense'),\n",
        "                                                               F.countDistinct(F.col('Invoice')).alias('Total number of purchases'),\n",
        "                                                               F.max('InvoiceDate').alias('Most recent purchase'))\n"
      ],
      "execution_count": 24,
      "outputs": []
    },
    {
      "cell_type": "code",
      "metadata": {
        "colab": {
          "base_uri": "https://localhost:8080/"
        },
        "id": "m2MiSlq_MXhA",
        "outputId": "fd2d9b7e-db78-4145-ddda-ad3ac49bb2b0"
      },
      "source": [
        "clean_raw_data_agg.show()"
      ],
      "execution_count": 25,
      "outputs": [
        {
          "output_type": "stream",
          "text": [
            "+-----------+-------------+-------------------------+--------------------+\n",
            "|Customer ID|Total expense|Total number of purchases|Most recent purchase|\n",
            "+-----------+-------------+-------------------------+--------------------+\n",
            "|      12847|       1636.9|                        2|          2011-11-17|\n",
            "|      13610|      2175.88|                       14|          2011-11-27|\n",
            "|      15555|     12112.35|                       36|          2011-11-27|\n",
            "|      13192|      2558.58|                        6|          2011-09-05|\n",
            "|      15574|       1518.7|                        6|          2011-06-15|\n",
            "|      15634|       554.65|                        2|          2011-11-22|\n",
            "|      14157|      1002.78|                        5|          2011-11-20|\n",
            "|      15271|      4709.54|                       24|          2011-12-02|\n",
            "|      17686|      8296.81|                        9|          2011-12-02|\n",
            "|      13865|       501.56|                        4|          2011-10-12|\n",
            "|      16250|       791.38|                        3|          2011-03-23|\n",
            "|      14204|      1062.96|                        4|          2011-12-07|\n",
            "|      16576|       540.87|                        2|          2010-10-15|\n",
            "|      17427|        100.8|                        1|          2011-09-29|\n",
            "|      13282|      1313.19|                        4|          2011-11-21|\n",
            "|      15269|      1225.36|                        3|          2011-11-16|\n",
            "|      14838|       773.67|                        2|          2010-10-12|\n",
            "|      17714|      1410.18|                        5|          2011-01-23|\n",
            "|      13772|      3114.22|                        8|          2011-11-06|\n",
            "|      12529|       316.48|                        1|          2010-06-29|\n",
            "+-----------+-------------+-------------------------+--------------------+\n",
            "only showing top 20 rows\n",
            "\n"
          ],
          "name": "stdout"
        }
      ]
    },
    {
      "cell_type": "code",
      "metadata": {
        "colab": {
          "base_uri": "https://localhost:8080/"
        },
        "id": "jxSvBk3b1Lut",
        "outputId": "9b71100d-4fc6-408d-d6aa-798144020379"
      },
      "source": [
        "clean_raw_data_agg.agg(F.max('Total expense')).show()"
      ],
      "execution_count": 26,
      "outputs": [
        {
          "output_type": "stream",
          "text": [
            "+------------------+\n",
            "|max(Total expense)|\n",
            "+------------------+\n",
            "|         608821.65|\n",
            "+------------------+\n",
            "\n"
          ],
          "name": "stdout"
        }
      ]
    },
    {
      "cell_type": "code",
      "metadata": {
        "colab": {
          "base_uri": "https://localhost:8080/"
        },
        "id": "4MxldtnVESmT",
        "outputId": "594074e7-88cc-40ec-fc06-10547c8d59e1"
      },
      "source": [
        "clean_raw_data_agg.sort('Total expense', ascending=False).show()"
      ],
      "execution_count": 27,
      "outputs": [
        {
          "output_type": "stream",
          "text": [
            "+-----------+-------------+-------------------------+--------------------+\n",
            "|Customer ID|Total expense|Total number of purchases|Most recent purchase|\n",
            "+-----------+-------------+-------------------------+--------------------+\n",
            "|      18102|    608821.65|                      145|          2011-12-09|\n",
            "|      14646|    528602.52|                      152|          2011-12-08|\n",
            "|      14156|    313946.37|                      156|          2011-11-30|\n",
            "|      14911|    295972.63|                      398|          2011-12-08|\n",
            "|      17450|    246973.09|                       51|          2011-12-01|\n",
            "|      13694|    196482.81|                      143|          2011-12-06|\n",
            "|      17511|    175603.55|                       60|          2011-12-07|\n",
            "|      16446|     168472.5|                        2|          2011-12-09|\n",
            "|      16684|    147142.77|                       55|          2011-12-05|\n",
            "|      12415|    144458.37|                       28|          2011-11-15|\n",
            "|      15061|    137818.52|                      127|          2011-12-06|\n",
            "|      16029|    122209.14|                      107|          2011-11-01|\n",
            "|      17949|    118628.08|                      118|          2011-12-08|\n",
            "|      15311|    116771.16|                      208|          2011-12-09|\n",
            "|      13089|    116737.86|                      203|          2011-12-07|\n",
            "|      12931|     92347.34|                       57|          2011-11-18|\n",
            "|      14298|     91194.49|                       82|          2011-12-01|\n",
            "|      15769|     88704.32|                       46|          2011-12-02|\n",
            "|      12346|     77556.46|                       12|          2011-01-18|\n",
            "|      13798|     75836.87|                      110|          2011-12-08|\n",
            "+-----------+-------------+-------------------------+--------------------+\n",
            "only showing top 20 rows\n",
            "\n"
          ],
          "name": "stdout"
        }
      ]
    },
    {
      "cell_type": "markdown",
      "metadata": {
        "id": "u1AvR-x0oJKI"
      },
      "source": [
        "**From the table above, some of the total expense is much larger than the rest values, we need further check those extrem values**  "
      ]
    },
    {
      "cell_type": "markdown",
      "metadata": {
        "id": "Mgoc5qjUoa5b"
      },
      "source": [
        "**Convert pyspark dataframe to pandas dataframe so that we can visually check outliers**  "
      ]
    },
    {
      "cell_type": "code",
      "metadata": {
        "id": "5ki91jHtuEC4"
      },
      "source": [
        "clean_raw_data_agg_df = clean_raw_data_agg.toPandas()"
      ],
      "execution_count": 28,
      "outputs": []
    },
    {
      "cell_type": "markdown",
      "metadata": {
        "id": "ls-h4OwhTbTk"
      },
      "source": [
        "\n",
        "### Check Outliers"
      ]
    },
    {
      "cell_type": "code",
      "metadata": {
        "colab": {
          "base_uri": "https://localhost:8080/",
          "height": 265
        },
        "id": "yCcyR1Wz2pBr",
        "outputId": "748bb478-13b5-4d00-a57e-fd46f41311d3"
      },
      "source": [
        "plt.boxplot(clean_raw_data_agg_df['Total expense'])\n",
        "plt.show()"
      ],
      "execution_count": 29,
      "outputs": [
        {
          "output_type": "display_data",
          "data": {
            "image/png": "[encoded data removed]",
            "text/plain": [
              "<Figure size 432x288 with 1 Axes>"
            ]
          },
          "metadata": {
            "tags": [],
            "needs_background": "light"
          }
        }
      ]
    },
    {
      "cell_type": "code",
      "metadata": {
        "colab": {
          "base_uri": "https://localhost:8080/",
          "height": 265
        },
        "id": "D5A77iEiotCd",
        "outputId": "404fc0a9-988a-4da2-fd40-12fe20e596ca"
      },
      "source": [
        "plt.boxplot(clean_raw_data_agg_df['Total number of purchases'])\n",
        "plt.show()"
      ],
      "execution_count": 30,
      "outputs": [
        {
          "output_type": "display_data",
          "data": {
            "image/png": "[encoded data removed]",
            "text/plain": [
              "<Figure size 432x288 with 1 Axes>"
            ]
          },
          "metadata": {
            "tags": [],
            "needs_background": "light"
          }
        }
      ]
    },
    {
      "cell_type": "code",
      "metadata": {
        "id": "a3qN3AHLo1SO"
      },
      "source": [
        ""
      ],
      "execution_count": 30,
      "outputs": []
    },
    {
      "cell_type": "markdown",
      "metadata": {
        "id": "hsgpb6CpUj3J"
      },
      "source": [
        "### Using Inter quantile range method to determine outliers"
      ]
    },
    {
      "cell_type": "code",
      "metadata": {
        "id": "1jqa7isn4Pbp"
      },
      "source": [
        "# Define a function to calculate upper and lower bounds using inter quantile range method\n",
        "def iqr_bound(dataframe, columns):\n",
        "  '''columns must be in the form of a list'''\n",
        "  bounds = dict()\n",
        "  for c in columns:\n",
        "    bounds[c] = dict(zip(['q1', 'q3'], dataframe.approxQuantile(c, [0.25, 0.75], 0)))\n",
        "    iqr = bounds[c]['q3']-bounds[c]['q1']\n",
        "    bounds[c]['lower'] = bounds[c]['q1']-iqr*1.5\n",
        "    bounds[c]['upper'] = bounds[c]['q3']+iqr*1.5\n",
        "  return bounds"
      ],
      "execution_count": 31,
      "outputs": []
    },
    {
      "cell_type": "code",
      "metadata": {
        "id": "3xF2_RDnWFl7"
      },
      "source": [
        "bounds = iqr_bound(clean_raw_data_agg, ['Total expense','Total number of purchases'])"
      ],
      "execution_count": 32,
      "outputs": []
    },
    {
      "cell_type": "code",
      "metadata": {
        "colab": {
          "base_uri": "https://localhost:8080/"
        },
        "id": "kpjBOQ92YiHD",
        "outputId": "095d1d78-95bc-4e75-86ed-469e257c5ed1"
      },
      "source": [
        "bounds"
      ],
      "execution_count": 33,
      "outputs": [
        {
          "output_type": "execute_result",
          "data": {
            "text/plain": [
              "{'Total expense': {'lower': -2586.7699999999995,\n",
              "  'q1': 347.8,\n",
              "  'q3': 2304.18,\n",
              "  'upper': 5238.75},\n",
              " 'Total number of purchases': {'lower': -8.0,\n",
              "  'q1': 1.0,\n",
              "  'q3': 7.0,\n",
              "  'upper': 16.0}}"
            ]
          },
          "metadata": {
            "tags": []
          },
          "execution_count": 33
        }
      ]
    },
    {
      "cell_type": "markdown",
      "metadata": {
        "id": "SxopA2m7Yrhv"
      },
      "source": [
        "Even though there are many values are byond upper bounds of Total expense and total number of purchases, these values cannot be deleted as outliers easily because no evidense showing their irrationality.\n",
        "\n",
        "To examine how these values can affect our model, we'd like to create two dataframes, with and without values beyond upper bounds."
      ]
    },
    {
      "cell_type": "code",
      "metadata": {
        "id": "T2qXPPR_Yu7_"
      },
      "source": [
        "clean_data_agg_without_outliers = clean_raw_data_agg.withColumn('outlier_total_expense',F.when((F.col('Total expense')<bounds['Total expense']['lower'])|(F.col('Total expense')>bounds['Total expense']['upper']), 1)\\\n",
        "                                                   .otherwise(0))"
      ],
      "execution_count": 34,
      "outputs": []
    },
    {
      "cell_type": "code",
      "metadata": {
        "colab": {
          "base_uri": "https://localhost:8080/"
        },
        "id": "CVU0I0y86mRf",
        "outputId": "a1fcb89d-8dc6-436b-e192-d1ccbc25af65"
      },
      "source": [
        "clean_data_agg_without_outliers.show()"
      ],
      "execution_count": 35,
      "outputs": [
        {
          "output_type": "stream",
          "text": [
            "+-----------+-------------+-------------------------+--------------------+---------------------+\n",
            "|Customer ID|Total expense|Total number of purchases|Most recent purchase|outlier_total_expense|\n",
            "+-----------+-------------+-------------------------+--------------------+---------------------+\n",
            "|      12847|       1636.9|                        2|          2011-11-17|                    0|\n",
            "|      13610|      2175.88|                       14|          2011-11-27|                    0|\n",
            "|      15555|     12112.35|                       36|          2011-11-27|                    1|\n",
            "|      13192|      2558.58|                        6|          2011-09-05|                    0|\n",
            "|      15574|       1518.7|                        6|          2011-06-15|                    0|\n",
            "|      15634|       554.65|                        2|          2011-11-22|                    0|\n",
            "|      14157|      1002.78|                        5|          2011-11-20|                    0|\n",
            "|      15271|      4709.54|                       24|          2011-12-02|                    0|\n",
            "|      17686|      8296.81|                        9|          2011-12-02|                    1|\n",
            "|      13865|       501.56|                        4|          2011-10-12|                    0|\n",
            "|      16250|       791.38|                        3|          2011-03-23|                    0|\n",
            "|      14204|      1062.96|                        4|          2011-12-07|                    0|\n",
            "|      16576|       540.87|                        2|          2010-10-15|                    0|\n",
            "|      17427|        100.8|                        1|          2011-09-29|                    0|\n",
            "|      13282|      1313.19|                        4|          2011-11-21|                    0|\n",
            "|      15269|      1225.36|                        3|          2011-11-16|                    0|\n",
            "|      14838|       773.67|                        2|          2010-10-12|                    0|\n",
            "|      17714|      1410.18|                        5|          2011-01-23|                    0|\n",
            "|      13772|      3114.22|                        8|          2011-11-06|                    0|\n",
            "|      12529|       316.48|                        1|          2010-06-29|                    0|\n",
            "+-----------+-------------+-------------------------+--------------------+---------------------+\n",
            "only showing top 20 rows\n",
            "\n"
          ],
          "name": "stdout"
        }
      ]
    },
    {
      "cell_type": "code",
      "metadata": {
        "id": "lmj6PFn8W_if"
      },
      "source": [
        "clean_data_agg_without_outliers = clean_data_agg_without_outliers.filter(F.col('outlier_total_expense')==0)"
      ],
      "execution_count": 36,
      "outputs": []
    },
    {
      "cell_type": "code",
      "metadata": {
        "colab": {
          "base_uri": "https://localhost:8080/"
        },
        "id": "HvJUZH3LXYTu",
        "outputId": "3cdd575f-e168-426b-b629-c437211db847"
      },
      "source": [
        "clean_data_agg_without_outliers.show()"
      ],
      "execution_count": 37,
      "outputs": [
        {
          "output_type": "stream",
          "text": [
            "+-----------+-------------+-------------------------+--------------------+---------------------+\n",
            "|Customer ID|Total expense|Total number of purchases|Most recent purchase|outlier_total_expense|\n",
            "+-----------+-------------+-------------------------+--------------------+---------------------+\n",
            "|      12847|       1636.9|                        2|          2011-11-17|                    0|\n",
            "|      13610|      2175.88|                       14|          2011-11-27|                    0|\n",
            "|      13192|      2558.58|                        6|          2011-09-05|                    0|\n",
            "|      15574|       1518.7|                        6|          2011-06-15|                    0|\n",
            "|      15634|       554.65|                        2|          2011-11-22|                    0|\n",
            "|      14157|      1002.78|                        5|          2011-11-20|                    0|\n",
            "|      15271|      4709.54|                       24|          2011-12-02|                    0|\n",
            "|      13865|       501.56|                        4|          2011-10-12|                    0|\n",
            "|      16250|       791.38|                        3|          2011-03-23|                    0|\n",
            "|      14204|      1062.96|                        4|          2011-12-07|                    0|\n",
            "|      16576|       540.87|                        2|          2010-10-15|                    0|\n",
            "|      17427|        100.8|                        1|          2011-09-29|                    0|\n",
            "|      13282|      1313.19|                        4|          2011-11-21|                    0|\n",
            "|      15269|      1225.36|                        3|          2011-11-16|                    0|\n",
            "|      14838|       773.67|                        2|          2010-10-12|                    0|\n",
            "|      17714|      1410.18|                        5|          2011-01-23|                    0|\n",
            "|      13772|      3114.22|                        8|          2011-11-06|                    0|\n",
            "|      12529|       316.48|                        1|          2010-06-29|                    0|\n",
            "|      18130|      1059.39|                        3|          2011-11-24|                    0|\n",
            "|      13442|       419.87|                        3|          2010-02-10|                    0|\n",
            "+-----------+-------------+-------------------------+--------------------+---------------------+\n",
            "only showing top 20 rows\n",
            "\n"
          ],
          "name": "stdout"
        }
      ]
    },
    {
      "cell_type": "code",
      "metadata": {
        "id": "WHv25pJlYVcj"
      },
      "source": [
        "df  = clean_data_agg_without_outliers.toPandas()"
      ],
      "execution_count": 38,
      "outputs": []
    },
    {
      "cell_type": "code",
      "metadata": {
        "colab": {
          "base_uri": "https://localhost:8080/",
          "height": 282
        },
        "id": "nVbZ3PAlskW3",
        "outputId": "cbb44906-dd54-491f-c3ad-721d271cb58d"
      },
      "source": [
        "plt.hist(df['Total expense'], bins=20)\n",
        "plt.xlim([0, 6000])\n",
        "plt.plot()"
      ],
      "execution_count": 39,
      "outputs": [
        {
          "output_type": "execute_result",
          "data": {
            "text/plain": [
              "[]"
            ]
          },
          "metadata": {
            "tags": []
          },
          "execution_count": 39
        },
        {
          "output_type": "display_data",
          "data": {
            "image/png": "[encoded data removed]",
            "text/plain": [
              "<Figure size 432x288 with 1 Axes>"
            ]
          },
          "metadata": {
            "tags": [],
            "needs_background": "light"
          }
        }
      ]
    },
    {
      "cell_type": "markdown",
      "metadata": {
        "id": "7ToEXSdoq3zH"
      },
      "source": [
        "#### Calculation of frequency\n",
        "Date difference"
      ]
    },
    {
      "cell_type": "code",
      "metadata": {
        "id": "3Izjs5wW029H"
      },
      "source": [
        "clean_raw_data_agg = clean_raw_data_agg.withColumn('date_difference', F.datediff(to_date(F.lit('2011-12-31')),F.col('Most recent purchase')))"
      ],
      "execution_count": 40,
      "outputs": []
    },
    {
      "cell_type": "code",
      "metadata": {
        "colab": {
          "base_uri": "https://localhost:8080/"
        },
        "id": "w6Y76PnSjjWx",
        "outputId": "28ef226d-ac30-407d-ad68-5cc1af07fd14"
      },
      "source": [
        "clean_raw_data_agg.show()"
      ],
      "execution_count": 41,
      "outputs": [
        {
          "output_type": "stream",
          "text": [
            "+-----------+-------------+-------------------------+--------------------+---------------+\n",
            "|Customer ID|Total expense|Total number of purchases|Most recent purchase|date_difference|\n",
            "+-----------+-------------+-------------------------+--------------------+---------------+\n",
            "|      12847|       1636.9|                        2|          2011-11-17|             44|\n",
            "|      13610|      2175.88|                       14|          2011-11-27|             34|\n",
            "|      15555|     12112.35|                       36|          2011-11-27|             34|\n",
            "|      13192|      2558.58|                        6|          2011-09-05|            117|\n",
            "|      15574|       1518.7|                        6|          2011-06-15|            199|\n",
            "|      15634|       554.65|                        2|          2011-11-22|             39|\n",
            "|      14157|      1002.78|                        5|          2011-11-20|             41|\n",
            "|      15271|      4709.54|                       24|          2011-12-02|             29|\n",
            "|      17686|      8296.81|                        9|          2011-12-02|             29|\n",
            "|      13865|       501.56|                        4|          2011-10-12|             80|\n",
            "|      16250|       791.38|                        3|          2011-03-23|            283|\n",
            "|      14204|      1062.96|                        4|          2011-12-07|             24|\n",
            "|      16576|       540.87|                        2|          2010-10-15|            442|\n",
            "|      17427|        100.8|                        1|          2011-09-29|             93|\n",
            "|      13282|      1313.19|                        4|          2011-11-21|             40|\n",
            "|      15269|      1225.36|                        3|          2011-11-16|             45|\n",
            "|      14838|       773.67|                        2|          2010-10-12|            445|\n",
            "|      17714|      1410.18|                        5|          2011-01-23|            342|\n",
            "|      13772|      3114.22|                        8|          2011-11-06|             55|\n",
            "|      12529|       316.48|                        1|          2010-06-29|            550|\n",
            "+-----------+-------------+-------------------------+--------------------+---------------+\n",
            "only showing top 20 rows\n",
            "\n"
          ],
          "name": "stdout"
        }
      ]
    },
    {
      "cell_type": "markdown",
      "metadata": {
        "id": "guxlXo7apwfA"
      },
      "source": [
        "**Assign groups**\n",
        "\n",
        "Set up cutoffs by percentile on the amount of money spent:[0.85, 0.7, 0.4, 0]\n"
      ]
    },
    {
      "cell_type": "code",
      "metadata": {
        "id": "NFTRvaPrk9Nv"
      },
      "source": [
        "monetary_cutoffs = clean_raw_data_agg.approxQuantile('Total expense',[0.75, 0.5, 0.25],0)"
      ],
      "execution_count": 42,
      "outputs": []
    },
    {
      "cell_type": "code",
      "metadata": {
        "colab": {
          "base_uri": "https://localhost:8080/"
        },
        "id": "4oSRQKWmlcv4",
        "outputId": "2fec742a-dafb-444d-dabe-7a9a131bfd61"
      },
      "source": [
        "monetary_cutoffs"
      ],
      "execution_count": 43,
      "outputs": [
        {
          "output_type": "execute_result",
          "data": {
            "text/plain": [
              "[2304.18, 897.62, 347.8]"
            ]
          },
          "metadata": {
            "tags": []
          },
          "execution_count": 43
        }
      ]
    },
    {
      "cell_type": "code",
      "metadata": {
        "colab": {
          "base_uri": "https://localhost:8080/"
        },
        "id": "u5aI5CIom23w",
        "outputId": "57e0ed50-2531-49b0-e983-84bb7048fd5b"
      },
      "source": [
        "recency_cutoffs = clean_raw_data_agg.approxQuantile('date_difference', [0.75, 0.5, 0.25], 0)\n",
        "recency_cutoffs"
      ],
      "execution_count": 44,
      "outputs": [
        {
          "output_type": "execute_result",
          "data": {
            "text/plain": [
              "[401.0, 117.0, 47.0]"
            ]
          },
          "metadata": {
            "tags": []
          },
          "execution_count": 44
        }
      ]
    },
    {
      "cell_type": "code",
      "metadata": {
        "colab": {
          "base_uri": "https://localhost:8080/"
        },
        "id": "xdhtbOVdno7i",
        "outputId": "3ccdd18b-9dd8-4616-95b8-8735556b4179"
      },
      "source": [
        "frequency_cutoffs = clean_raw_data_agg.approxQuantile('Total number of purchases', [0.75, 0.5,0.25],0)\n",
        "frequency_cutoffs"
      ],
      "execution_count": 45,
      "outputs": [
        {
          "output_type": "execute_result",
          "data": {
            "text/plain": [
              "[7.0, 3.0, 1.0]"
            ]
          },
          "metadata": {
            "tags": []
          },
          "execution_count": 45
        }
      ]
    },
    {
      "cell_type": "code",
      "metadata": {
        "id": "S7EDCVr0pv4x"
      },
      "source": [
        "clean_raw_data_agg_levels = clean_raw_data_agg.withColumn('Total_expense_level', \n",
        "                              F.when(F.col('Total expense')>monetary_cutoffs[0],1)\\\n",
        "                              .when(F.col('Total expense')>monetary_cutoffs[1],2)\\\n",
        "                              .when(F.col('Total expense')>monetary_cutoffs[2],3)\\\n",
        "                              .otherwise(4))\\\n",
        "                  .withColumn('Recency_level', F.when(F.col('date_difference')<recency_cutoffs[2],1)\\\n",
        "                                                .when(F.col('date_difference')<recency_cutoffs[1],2)\\\n",
        "                                                .when(F.col('date_difference')<recency_cutoffs[0],3)\\\n",
        "                                                .otherwise(4))\\\n",
        "                  .withColumn('Frequency_level',F.when(F.col('Total number of purchases')>frequency_cutoffs[0],1)\\\n",
        "                                                 .when(F.col('Total number of purchases')>frequency_cutoffs[1],2)\\\n",
        "                                                 .when(F.col('Total number of purchases')>frequency_cutoffs[2],3)\\\n",
        "                                                 .otherwise(4))\n"
      ],
      "execution_count": 46,
      "outputs": []
    },
    {
      "cell_type": "markdown",
      "metadata": {
        "id": "z9w-clv3og9U"
      },
      "source": [
        "**Check the number of customers in group R-1, F-1, M-1** \n",
        "\n",
        "customers in group 111 are considered to be best customers becuase they made purchase recently, do so often and psend more than other customers."
      ]
    },
    {
      "cell_type": "code",
      "metadata": {
        "id": "p3f7L4BprdD3"
      },
      "source": [
        "best_customers = clean_raw_data_agg_levels\\\n",
        "                         .filter(F.col('Total_expense_level')==1)\\\n",
        "                         .filter(F.col('Recency_level')==1)\\\n",
        "                         .filter(F.col('Frequency_level')==1)"
      ],
      "execution_count": 67,
      "outputs": []
    },
    {
      "cell_type": "code",
      "metadata": {
        "colab": {
          "base_uri": "https://localhost:8080/"
        },
        "id": "9efwTu_T8h5F",
        "outputId": "b7753a88-f383-489a-fb02-472d02aaccaa"
      },
      "source": [
        "best_customers.show()"
      ],
      "execution_count": 68,
      "outputs": [
        {
          "output_type": "stream",
          "text": [
            "+-----------+-------------+-------------------------+--------------------+---------------+-------------------+-------------+---------------+\n",
            "|Customer ID|Total expense|Total number of purchases|Most recent purchase|date_difference|Total_expense_level|Recency_level|Frequency_level|\n",
            "+-----------+-------------+-------------------------+--------------------+---------------+-------------------+-------------+---------------+\n",
            "|      15555|     12112.35|                       36|          2011-11-27|             34|                  1|            1|              1|\n",
            "|      15271|      4709.54|                       24|          2011-12-02|             29|                  1|            1|              1|\n",
            "|      17686|      8296.81|                        9|          2011-12-02|             29|                  1|            1|              1|\n",
            "|      17757|      9422.45|                       56|          2011-12-08|             23|                  1|            1|              1|\n",
            "|      16549|     13182.19|                       34|          2011-11-29|             32|                  1|            1|              1|\n",
            "|      13985|     10020.86|                       22|          2011-12-05|             26|                  1|            1|              1|\n",
            "|      18283|      2736.65|                       22|          2011-12-06|             25|                  1|            1|              1|\n",
            "|      14525|      8240.64|                       17|          2011-11-20|             41|                  1|            1|              1|\n",
            "|      13174|      9494.84|                       12|          2011-11-23|             38|                  1|            1|              1|\n",
            "|      12957|      8706.97|                       13|          2011-11-30|             31|                  1|            1|              1|\n",
            "|      14649|      3775.31|                        9|          2011-12-05|             26|                  1|            1|              1|\n",
            "|      14963|      3164.48|                       12|          2011-11-30|             31|                  1|            1|              1|\n",
            "|      16133|     22992.26|                       56|          2011-12-06|             25|                  1|            1|              1|\n",
            "|      17491|      5981.07|                       17|          2011-12-08|             23|                  1|            1|              1|\n",
            "|      13571|      4546.54|                       26|          2011-11-27|             34|                  1|            1|              1|\n",
            "|      14701|      4562.09|                       15|          2011-11-29|             32|                  1|            1|              1|\n",
            "|      15845|      4426.28|                       11|          2011-11-22|             39|                  1|            1|              1|\n",
            "|      17348|      2476.41|                        9|          2011-11-25|             36|                  1|            1|              1|\n",
            "|      12437|      12683.4|                       39|          2011-12-08|             23|                  1|            1|              1|\n",
            "|      18223|     14000.85|                       26|          2011-12-05|             26|                  1|            1|              1|\n",
            "+-----------+-------------+-------------------------+--------------------+---------------+-------------------+-------------+---------------+\n",
            "only showing top 20 rows\n",
            "\n"
          ],
          "name": "stdout"
        }
      ]
    },
    {
      "cell_type": "code",
      "metadata": {
        "colab": {
          "base_uri": "https://localhost:8080/"
        },
        "id": "s8eG0TiB8mZv",
        "outputId": "920aa5d2-1409-44f4-e33e-e6725fb5b07a"
      },
      "source": [
        "best_customers.count()"
      ],
      "execution_count": 69,
      "outputs": [
        {
          "output_type": "execute_result",
          "data": {
            "text/plain": [
              "613"
            ]
          },
          "metadata": {
            "tags": []
          },
          "execution_count": 69
        }
      ]
    },
    {
      "cell_type": "markdown",
      "metadata": {
        "id": "OjvGwZBJqmcx"
      },
      "source": [
        "**Check the number of customers in group R-1,F-4, M-1 and group R-1, F-4, M-2** \n",
        "\n",
        "Customers in these 2 groups are considered to be high-spending new customers。 These are customers who made purchases only once, but very recently and they spend a lot"
      ]
    },
    {
      "cell_type": "code",
      "metadata": {
        "id": "jGBMaaklpaCX"
      },
      "source": [
        "high_spending_new_customers = clean_raw_data_agg_levels.filter((F.col('Total_expense_level')==2)|(F.col('Total_expense_level')==1))\\\n",
        "                                                       .filter(F.col('Recency_level')==1)\\\n",
        "                                                       .filter((F.col('Frequency_level')==4))"
      ],
      "execution_count": 49,
      "outputs": []
    },
    {
      "cell_type": "code",
      "metadata": {
        "colab": {
          "base_uri": "https://localhost:8080/"
        },
        "id": "O1H73cCa8psn",
        "outputId": "de76702a-da1b-4ab2-ea6b-693ecf75da6d"
      },
      "source": [
        "high_spending_new_customers.show()"
      ],
      "execution_count": 70,
      "outputs": [
        {
          "output_type": "stream",
          "text": [
            "+-----------+-------------+-------------------------+--------------------+---------------+-------------------+-------------+---------------+\n",
            "|Customer ID|Total expense|Total number of purchases|Most recent purchase|date_difference|Total_expense_level|Recency_level|Frequency_level|\n",
            "+-----------+-------------+-------------------------+--------------------+---------------+-------------------+-------------+---------------+\n",
            "|      17727|      1060.25|                        1|          2011-11-24|             37|                  2|            1|              4|\n",
            "|      16800|      1201.49|                        1|          2011-11-28|             33|                  2|            1|              4|\n",
            "|      15195|       3861.0|                        1|          2011-12-07|             24|                  1|            1|              4|\n",
            "+-----------+-------------+-------------------------+--------------------+---------------+-------------------+-------------+---------------+\n",
            "\n"
          ],
          "name": "stdout"
        }
      ]
    },
    {
      "cell_type": "code",
      "metadata": {
        "colab": {
          "base_uri": "https://localhost:8080/"
        },
        "id": "m23kzlUmsjoT",
        "outputId": "c7e3c400-6086-47ee-eccc-cef0d22e2464"
      },
      "source": [
        "high_spending_new_customers.count()"
      ],
      "execution_count": 50,
      "outputs": [
        {
          "output_type": "execute_result",
          "data": {
            "text/plain": [
              "3"
            ]
          },
          "metadata": {
            "tags": []
          },
          "execution_count": 50
        }
      ]
    },
    {
      "cell_type": "markdown",
      "metadata": {
        "id": "Ow-e3JeF0JGx"
      },
      "source": [
        "**Check the number of customers in group R-1,F-1, M-3 and group R-1, F-1, M-4**   \n",
        "\n",
        "Customers in these 2 groups are considered to be lowest-spending active loyal customers becuase they made purchases frequencytly and do so often, but spend the least\n",
        "\n"
      ]
    },
    {
      "cell_type": "code",
      "metadata": {
        "id": "rTDwGVJPzUNF"
      },
      "source": [
        "lowest_spending_loyal_customers = clean_raw_data_agg_levels.filter(((F.col('Total_expense_level')==3)|(F.col('Total_expense_level')==4))&(F.col('Recency_level')==1)&(F.col('Frequency_level')==1))"
      ],
      "execution_count": 51,
      "outputs": []
    },
    {
      "cell_type": "code",
      "metadata": {
        "colab": {
          "base_uri": "https://localhost:8080/"
        },
        "id": "mv1kJvpd85zU",
        "outputId": "f09a3307-ed60-4c4e-9af5-0dbe24139a7e"
      },
      "source": [
        "lowest_spending_loyal_customers.show()"
      ],
      "execution_count": 71,
      "outputs": [
        {
          "output_type": "stream",
          "text": [
            "+-----------+-------------+-------------------------+--------------------+---------------+-------------------+-------------+---------------+\n",
            "|Customer ID|Total expense|Total number of purchases|Most recent purchase|date_difference|Total_expense_level|Recency_level|Frequency_level|\n",
            "+-----------+-------------+-------------------------+--------------------+---------------+-------------------+-------------+---------------+\n",
            "|      16668|       862.42|                       13|          2011-11-24|             37|                  3|            1|              1|\n",
            "|      17114|       808.62|                        8|          2011-12-04|             27|                  3|            1|              1|\n",
            "|      16500|       843.91|                        9|          2011-12-05|             26|                  3|            1|              1|\n",
            "|      17988|       489.54|                       14|          2011-11-28|             33|                  3|            1|              1|\n",
            "+-----------+-------------+-------------------------+--------------------+---------------+-------------------+-------------+---------------+\n",
            "\n"
          ],
          "name": "stdout"
        }
      ]
    },
    {
      "cell_type": "code",
      "metadata": {
        "colab": {
          "base_uri": "https://localhost:8080/"
        },
        "id": "PjpJJkVdsu9S",
        "outputId": "1098ec51-42e3-483a-ba05-af4c962bf45f"
      },
      "source": [
        "lowest_spending_loyal_customers.count()"
      ],
      "execution_count": 52,
      "outputs": [
        {
          "output_type": "execute_result",
          "data": {
            "text/plain": [
              "4"
            ]
          },
          "metadata": {
            "tags": []
          },
          "execution_count": 52
        }
      ]
    },
    {
      "cell_type": "markdown",
      "metadata": {
        "id": "Bc87ld5M0zEr"
      },
      "source": [
        "**Check the number of cusotmers in group R4-1-1, 4-1-2, 4-2-1 and 4-2-2** \n",
        "\n",
        "This segment consists of those customers that made purchases frequently and spent a lot, but it's been a long time since their last purchase"
      ]
    },
    {
      "cell_type": "code",
      "metadata": {
        "id": "ZZxcc9lF1JUc"
      },
      "source": [
        "churned_best_customers = clean_raw_data_agg_levels.filter((F.col('Recency_level')==4)&(F.col('Frequency_level')==1)|(F.col('Frequency_level')==2)&(F.col('Total_expense_level')==1)|(F.col('Total_expense_level')==2))"
      ],
      "execution_count": 53,
      "outputs": []
    },
    {
      "cell_type": "code",
      "metadata": {
        "colab": {
          "base_uri": "https://localhost:8080/"
        },
        "id": "4I80Q0Ae871V",
        "outputId": "7c6015b9-3a33-4a87-954b-47d3c3033902"
      },
      "source": [
        "churned_best_customers.show()"
      ],
      "execution_count": 72,
      "outputs": [
        {
          "output_type": "stream",
          "text": [
            "+-----------+-------------+-------------------------+--------------------+---------------+-------------------+-------------+---------------+\n",
            "|Customer ID|Total expense|Total number of purchases|Most recent purchase|date_difference|Total_expense_level|Recency_level|Frequency_level|\n",
            "+-----------+-------------+-------------------------+--------------------+---------------+-------------------+-------------+---------------+\n",
            "|      12847|       1636.9|                        2|          2011-11-17|             44|                  2|            1|              3|\n",
            "|      13610|      2175.88|                       14|          2011-11-27|             34|                  2|            1|              1|\n",
            "|      13192|      2558.58|                        6|          2011-09-05|            117|                  1|            3|              2|\n",
            "|      15574|       1518.7|                        6|          2011-06-15|            199|                  2|            3|              2|\n",
            "|      14157|      1002.78|                        5|          2011-11-20|             41|                  2|            1|              2|\n",
            "|      14204|      1062.96|                        4|          2011-12-07|             24|                  2|            1|              2|\n",
            "|      13282|      1313.19|                        4|          2011-11-21|             40|                  2|            1|              2|\n",
            "|      15269|      1225.36|                        3|          2011-11-16|             45|                  2|            1|              3|\n",
            "|      17714|      1410.18|                        5|          2011-01-23|            342|                  2|            3|              2|\n",
            "|      16320|      5628.99|                        6|          2011-06-20|            194|                  1|            3|              2|\n",
            "|      18130|      1059.39|                        3|          2011-11-24|             37|                  2|            1|              3|\n",
            "|      12394|      1272.48|                        2|          2011-10-07|             85|                  2|            2|              3|\n",
            "|      14899|      1384.88|                        1|          2010-11-09|            417|                  2|            4|              4|\n",
            "|      14887|       1862.0|                        1|          2011-09-21|            101|                  2|            2|              4|\n",
            "|      17866|      1134.95|                        3|          2011-07-20|            164|                  2|            3|              3|\n",
            "|      15947|      1708.24|                        1|          2011-09-18|            104|                  2|            2|              4|\n",
            "|      16639|      1747.98|                        4|          2011-11-08|             53|                  2|            2|              2|\n",
            "|      18276|      1656.52|                        6|          2011-10-27|             65|                  2|            2|              2|\n",
            "|      15478|      2024.98|                        3|          2011-10-30|             62|                  2|            2|              3|\n",
            "|      16303|      7928.27|                        7|          2011-11-14|             47|                  1|            2|              2|\n",
            "+-----------+-------------+-------------------------+--------------------+---------------+-------------------+-------------+---------------+\n",
            "only showing top 20 rows\n",
            "\n"
          ],
          "name": "stdout"
        }
      ]
    },
    {
      "cell_type": "code",
      "metadata": {
        "colab": {
          "base_uri": "https://localhost:8080/"
        },
        "id": "WK7hZvTH1oKN",
        "outputId": "333badc5-6e51-41cf-85cf-d47c33a4d0d1"
      },
      "source": [
        "churned_best_customers.count()"
      ],
      "execution_count": 54,
      "outputs": [
        {
          "output_type": "execute_result",
          "data": {
            "text/plain": [
              "1798"
            ]
          },
          "metadata": {
            "tags": []
          },
          "execution_count": 54
        }
      ]
    },
    {
      "cell_type": "markdown",
      "metadata": {
        "id": "CHmopPijspYv"
      },
      "source": [
        "### Scaling features before fitting intto Kmeans models"
      ]
    },
    {
      "cell_type": "code",
      "metadata": {
        "id": "_Jiiq-lxsoPu"
      },
      "source": [
        "from pyspark.ml import Pipeline\n",
        "\n",
        "columns = ['Total expense','Total number of purchases', 'date_difference']\n",
        "assemblers=[VectorAssembler(inputCols=[col], outputCol=col+\"_vec\") for col in columns]\n",
        "scalers = [MinMaxScaler(inputCol = col+\"_vec\", outputCol=col+\"_scaled\") for col in columns]\n",
        "pipeline = Pipeline(stages=assemblers+scalers)\n",
        "scalerModel=pipeline.fit(clean_raw_data_agg_levels)\n",
        "scaledData=scalerModel.transform(clean_raw_data_agg_levels)"
      ],
      "execution_count": 55,
      "outputs": []
    },
    {
      "cell_type": "code",
      "metadata": {
        "colab": {
          "base_uri": "https://localhost:8080/"
        },
        "id": "nPqNfpyIyOvE",
        "outputId": "ac5e6b96-a29d-4cf0-8080-d4cb8a969513"
      },
      "source": [
        "scaledData.printSchema()"
      ],
      "execution_count": 56,
      "outputs": [
        {
          "output_type": "stream",
          "text": [
            "root\n",
            " |-- Customer ID: string (nullable = true)\n",
            " |-- Total expense: double (nullable = true)\n",
            " |-- Total number of purchases: long (nullable = false)\n",
            " |-- Most recent purchase: date (nullable = true)\n",
            " |-- date_difference: integer (nullable = true)\n",
            " |-- Total_expense_level: integer (nullable = false)\n",
            " |-- Recency_level: integer (nullable = false)\n",
            " |-- Frequency_level: integer (nullable = false)\n",
            " |-- Total expense_vec: vector (nullable = true)\n",
            " |-- Total number of purchases_vec: vector (nullable = true)\n",
            " |-- date_difference_vec: vector (nullable = true)\n",
            " |-- Total expense_scaled: vector (nullable = true)\n",
            " |-- Total number of purchases_scaled: vector (nullable = true)\n",
            " |-- date_difference_scaled: vector (nullable = true)\n",
            "\n"
          ],
          "name": "stdout"
        }
      ]
    },
    {
      "cell_type": "code",
      "metadata": {
        "id": "oV1XPdMcwmTR"
      },
      "source": [
        "#filtering out unecessary columsn\n",
        "scaledata = scaledData.select('Customer ID','Total expense','Total number of purchases','date_difference','Total expense_scaled','Total number of purchases_scaled','date_difference_scaled')"
      ],
      "execution_count": 57,
      "outputs": []
    },
    {
      "cell_type": "code",
      "metadata": {
        "colab": {
          "base_uri": "https://localhost:8080/"
        },
        "id": "pWHcroiFyT5_",
        "outputId": "57d13f6b-45dd-4e63-c32e-a11c849cfb0b"
      },
      "source": [
        "scaledata.show()"
      ],
      "execution_count": 58,
      "outputs": [
        {
          "output_type": "stream",
          "text": [
            "+-----------+-------------+-------------------------+---------------+--------------------+--------------------------------+----------------------+\n",
            "|Customer ID|Total expense|Total number of purchases|date_difference|Total expense_scaled|Total number of purchases_scaled|date_difference_scaled|\n",
            "+-----------+-------------+-------------------------+---------------+--------------------+--------------------------------+----------------------+\n",
            "|      12847|       1636.9|                        2|             44|[0.00268863631902...|            [0.00251889168765...|  [0.02981029810298...|\n",
            "|      13610|      2175.88|                       14|             34|[0.00357392021128...|            [0.0327455919395466]|  [0.01626016260162...|\n",
            "|      15555|     12112.35|                       36|             34|[0.01989474257362...|            [0.08816120906801...|  [0.01626016260162...|\n",
            "|      13192|      2558.58|                        6|            117|[0.00420251152369...|            [0.01259445843828...|  [0.12872628726287...|\n",
            "|      15574|       1518.7|                        6|            199|[0.00249449079217...|            [0.01259445843828...|  [0.23983739837398...|\n",
            "|      15634|       554.65|                        2|             39|[9.11022135957221...|            [0.00251889168765...|  [0.02303523035230...|\n",
            "|      14157|      1002.78|                        5|             41|[0.00164708334534...|            [0.01007556675062...|  [0.02574525745257...|\n",
            "|      15271|      4709.54|                       24|             29|[0.00773550020765...|            [0.05793450881612...|  [0.00948509485094...|\n",
            "|      17686|      8296.81|                        9|             29|[0.01362765269599...|            [0.02015113350125...|  [0.00948509485094...|\n",
            "|      13865|       501.56|                        4|             80|[8.23820900587224...|            [0.00755667506297...|  [0.07859078590785...|\n",
            "|      16250|       791.38|                        3|            283|[0.00129985522032...|            [0.00503778337531...|  [0.35365853658536...|\n",
            "|      14204|      1062.96|                        4|             24|[0.00174593002729...|            [0.00755667506297...|  [0.00271002710027...|\n",
            "|      16576|       540.87|                        2|            442|[8.88388249662277...|            [0.00251889168765...|  [0.5691056910569106]|\n",
            "|      17427|        100.8|                        1|             93|[1.65565728485509...|                           [0.0]|  [0.09620596205962...|\n",
            "|      13282|      1313.19|                        4|             40|[0.00215693709315...|            [0.00755667506297...|  [0.02439024390243...|\n",
            "|      15269|      1225.36|                        3|             45|[0.00201267481207...|            [0.00503778337531...|  [0.03116531165311...|\n",
            "|      14838|       773.67|                        2|            445|[0.00127076624164...|            [0.00251889168765...|   [0.573170731707317]|\n",
            "|      17714|      1410.18|                        5|            342|[0.00231624483130...|            [0.01007556675062...|  [0.43360433604336...|\n",
            "|      13772|      3114.22|                        8|             55|[0.00511515975162...|            [0.01763224181360...|  [0.04471544715447...|\n",
            "|      12529|       316.48|                        1|            550|[5.19823826895774...|                           [0.0]|  [0.7154471544715447]|\n",
            "+-----------+-------------+-------------------------+---------------+--------------------+--------------------------------+----------------------+\n",
            "only showing top 20 rows\n",
            "\n"
          ],
          "name": "stdout"
        }
      ]
    },
    {
      "cell_type": "markdown",
      "metadata": {
        "id": "McHVZ1EiKNdD"
      },
      "source": [
        "### KNN"
      ]
    },
    {
      "cell_type": "code",
      "metadata": {
        "id": "z0tzYB1EESl3"
      },
      "source": [
        "vecAssembler = VectorAssembler(inputCols=['Total expense_scaled','Total number of purchases_scaled','date_difference_scaled'], outputCol='features')\n",
        "new_df = vecAssembler.transform(scaledata)"
      ],
      "execution_count": 59,
      "outputs": []
    },
    {
      "cell_type": "code",
      "metadata": {
        "id": "-1WxTpM60S5D"
      },
      "source": [
        "from pyspark.ml.clustering import KMeans\n",
        "kmeans = KMeans().setK(6).setSeed(1)\n",
        "kmeans_clf = kmeans.fit(new_df.select('features'))\n",
        "transformed= kmeans_clf.transform(new_df)\n"
      ],
      "execution_count": 73,
      "outputs": []
    },
    {
      "cell_type": "code",
      "metadata": {
        "colab": {
          "base_uri": "https://localhost:8080/"
        },
        "id": "__FRMQ_206Kj",
        "outputId": "b87f02c0-4c4c-4455-f988-3a5dfc811f69"
      },
      "source": [
        "transformed.groupBy('prediction').count().show()"
      ],
      "execution_count": 74,
      "outputs": [
        {
          "output_type": "stream",
          "text": [
            "+----------+-----+\n",
            "|prediction|count|\n",
            "+----------+-----+\n",
            "|         1|  954|\n",
            "|         3|  933|\n",
            "|         5|  418|\n",
            "|         4|   22|\n",
            "|         2|  456|\n",
            "|         0| 3098|\n",
            "+----------+-----+\n",
            "\n"
          ],
          "name": "stdout"
        }
      ]
    },
    {
      "cell_type": "code",
      "metadata": {
        "id": "1XK1k4pO1deF"
      },
      "source": [
        "centers = kmeans_clf.clusterCenters()"
      ],
      "execution_count": 75,
      "outputs": []
    },
    {
      "cell_type": "code",
      "metadata": {
        "colab": {
          "base_uri": "https://localhost:8080/"
        },
        "id": "oERJ47gJwec-",
        "outputId": "7fa0fb41-58cc-43d5-a6ae-4d6393b149be"
      },
      "source": [
        "centers"
      ],
      "execution_count": 76,
      "outputs": [
        {
          "output_type": "execute_result",
          "data": {
            "text/plain": [
              "[array([0.00590689, 0.01846645, 0.05004059]),\n",
              " array([0.00179694, 0.00453876, 0.52303381]),\n",
              " array([0.00120512, 0.00307128, 0.69941283]),\n",
              " array([0.00241529, 0.0072165 , 0.27398577]),\n",
              " array([0.26953976, 0.37623082, 0.0065287 ]),\n",
              " array([9.50194292e-04, 8.91856387e-04, 8.92282906e-01])]"
            ]
          },
          "metadata": {
            "tags": []
          },
          "execution_count": 76
        }
      ]
    },
    {
      "cell_type": "code",
      "metadata": {
        "id": "AdamN2ZxyPzj"
      },
      "source": [
        ""
      ],
      "execution_count": null,
      "outputs": []
    }
  ]
}
